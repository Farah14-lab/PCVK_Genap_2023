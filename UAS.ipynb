{
  "nbformat": 4,
  "nbformat_minor": 0,
  "metadata": {
    "colab": {
      "provenance": [],
      "mount_file_id": "https://github.com/Farah14-lab/PCVK_Genap_2023/blob/main/UAS.ipynb",
      "authorship_tag": "ABX9TyMAuVspQAs6f1QVcLnbDCB7",
      "include_colab_link": true
    },
    "kernelspec": {
      "name": "python3",
      "display_name": "Python 3"
    },
    "language_info": {
      "name": "python"
    }
  },
  "cells": [
    {
      "cell_type": "markdown",
      "metadata": {
        "id": "view-in-github",
        "colab_type": "text"
      },
      "source": [
        "<a href=\"https://colab.research.google.com/github/Farah14-lab/PCVK_Genap_2023/blob/main/UAS.ipynb\" target=\"_parent\"><img src=\"https://colab.research.google.com/assets/colab-badge.svg\" alt=\"Open In Colab\"/></a>"
      ]
    },
    {
      "cell_type": "code",
      "execution_count": 67,
      "metadata": {
        "id": "olIM7TJaKsD5"
      },
      "outputs": [],
      "source": [
        "import os\n",
        "import cv2\n",
        "import numpy as np\n",
        "from sklearn.svm import SVC\n",
        "from sklearn.model_selection import train_test_split\n",
        "import joblib"
      ]
    },
    {
      "cell_type": "code",
      "source": [
        "from google.colab import drive\n",
        "drive.mount('/content/drive') "
      ],
      "metadata": {
        "id": "qI3dZtbDSnjY",
        "outputId": "46f5dc83-376a-4164-9ea8-f5fb951d6b20",
        "colab": {
          "base_uri": "https://localhost:8080/"
        }
      },
      "execution_count": 68,
      "outputs": [
        {
          "output_type": "stream",
          "name": "stdout",
          "text": [
            "Drive already mounted at /content/drive; to attempt to forcibly remount, call drive.mount(\"/content/drive\", force_remount=True).\n"
          ]
        }
      ]
    },
    {
      "cell_type": "code",
      "source": [
        "# membaca dan memproses gambar-gambar\n",
        "# directory merupakan path atau lokasi direktori tempat gambar-gambar disimpan \n",
        "# label merupakan label yang akan diberikan pada setiap gambar yang diproses\n",
        "def read_and_process_images(directory, label):\n",
        "    data = []\n",
        "    for filename in os.listdir(directory):\n",
        "        if filename.endswith(\".png\"):\n",
        "            filepath = os.path.join(directory, filename)\n",
        "            image = cv2.imread(filepath, cv2.IMREAD_GRAYSCALE)\n",
        "            image = cv2.resize(image, (64, 64))  # merubah dimensi gambar menjadi 64x64\n",
        "            data.append((image, label))\n",
        "    return data"
      ],
      "metadata": {
        "id": "ICwFNMDES4uY"
      },
      "execution_count": 69,
      "outputs": []
    },
    {
      "cell_type": "code",
      "source": [
        "# data_dir sbg argumen directory saat memanggil fungsi read_and_process_images untuk membaca dan memproses gambar-gambar dalam direktori tersebut\n",
        "data_dir = '/content/drive/MyDrive/PCVK/Imanges/2D Geometry Images' "
      ],
      "metadata": {
        "id": "LPwRMW3vS8kC"
      },
      "execution_count": 70,
      "outputs": []
    },
    {
      "cell_type": "code",
      "source": [
        "# Membaca dan memproses gambar lingkaran\n",
        "lingkaran_dir = os.path.join(data_dir, '/content/drive/MyDrive/PCVK/imanges/2D Geometry Images/lingkaran')\n",
        "lingkaran_data = read_and_process_images(lingkaran_dir, 0)\n",
        "\n",
        "# Membaca dan memproses gambar heptagon\n",
        "heptagon_dir = os.path.join(data_dir, '/content/drive/MyDrive/PCVK/imanges/2D Geometry Images/heptagon')\n",
        "heptagon_data = read_and_process_images(heptagon_dir, 1)\n",
        "\n",
        "# Membaca dan memproses gambar segitiga\n",
        "segitiga_dir = os.path.join(data_dir, '/content/drive/MyDrive/PCVK/imanges/2D Geometry Images/segitiga')\n",
        "segitiga_data = read_and_process_images(segitiga_dir, 2)"
      ],
      "metadata": {
        "id": "lBsWeA5STARm"
      },
      "execution_count": 71,
      "outputs": []
    },
    {
      "cell_type": "code",
      "source": [
        "# menggabungkan data dari semua bentuk\n",
        "data = lingkaran_data + heptagon_data + segitiga_data"
      ],
      "metadata": {
        "id": "MJfuAkZAhy0X"
      },
      "execution_count": 72,
      "outputs": []
    },
    {
      "cell_type": "code",
      "source": [
        "# memisahkan fitur (gambar) dan target (label) dari data\n",
        "# X akan menjadi array numpy yang berisi semua gambar yang telah diproses \n",
        "# y akan menjadi array numpy yang berisi semua label yang sesuai\n",
        "X = np.array([item[0] for item in data])\n",
        "y = np.array([item[1] for item in data])"
      ],
      "metadata": {
        "id": "SN1zqeZ_i9Ei"
      },
      "execution_count": 73,
      "outputs": []
    },
    {
      "cell_type": "code",
      "source": [
        "# membagi data menjadi data latih (training set) dan data uji (test set) dengan rasio 80:20\n",
        "X_train, X_test, y_train, y_test = train_test_split(X, y, test_size=0.2, random_state=42)"
      ],
      "metadata": {
        "id": "liSeY5AQjCR7"
      },
      "execution_count": 74,
      "outputs": []
    },
    {
      "cell_type": "code",
      "source": [
        "# Membuat dan Melatih model SVM\n",
        "model = SVC(kernel='linear')\n",
        "model.fit(X_train.reshape(X_train.shape[0], -1), y_train)\n",
        "model_path = \"/content/drive/MyDrive/PCVK/imanges/2D Geometry Images/model.pkl\"\n",
        "joblib.dump(model, model_path)"
      ],
      "metadata": {
        "id": "70JKQ_USjDTA",
        "outputId": "6564b652-85e5-41a0-be0b-3a04b3fbe9e0",
        "colab": {
          "base_uri": "https://localhost:8080/"
        }
      },
      "execution_count": 75,
      "outputs": [
        {
          "output_type": "execute_result",
          "data": {
            "text/plain": [
              "['/content/drive/MyDrive/PCVK/imanges/2D Geometry Images/model.pkl']"
            ]
          },
          "metadata": {},
          "execution_count": 75
        }
      ]
    },
    {
      "cell_type": "code",
      "source": [
        "# Mengevaluasi model pada data uji\n",
        "accuracy = model.score(X_test.reshape(X_test.shape[0], -1), y_test)\n",
        "print(\"Akurasi model:\", accuracy)"
      ],
      "metadata": {
        "id": "jninL6gBjxzh",
        "outputId": "5bf33cb4-8c03-4f9d-aad9-98c78d79f9a7",
        "colab": {
          "base_uri": "https://localhost:8080/"
        }
      },
      "execution_count": 76,
      "outputs": [
        {
          "output_type": "stream",
          "name": "stdout",
          "text": [
            "Akurasi model: 0.3333333333333333\n"
          ]
        }
      ]
    },
    {
      "cell_type": "code",
      "source": [
        "# Fungsi untuk membaca dan memproses gambar\n",
        "def read_and_process_image(filepath):\n",
        "    image = cv2.imread(filepath, cv2.IMREAD_GRAYSCALE)\n",
        "    image = cv2.resize(image, (64, 64))  # Mengubah dimensi gambar menjadi 64x64\n",
        "    return image"
      ],
      "metadata": {
        "id": "MIiEqAmzkBbz"
      },
      "execution_count": 77,
      "outputs": []
    },
    {
      "cell_type": "code",
      "source": [
        "# Mendefinisikan label bentuk\n",
        "labels = [\"Lingkaran\", \"Heptagon\", \"Segitiga\"]"
      ],
      "metadata": {
        "id": "g-tYwi40kG59"
      },
      "execution_count": 78,
      "outputs": []
    },
    {
      "cell_type": "code",
      "source": [
        "# Memuat model SVM yang telah dilatih\n",
        "model_path = \"/content/drive/MyDrive/PCVK/imanges/2D Geometry Images/model.pkl\"\n",
        "model = joblib.load(model_path)"
      ],
      "metadata": {
        "id": "V018UG9lkKAD"
      },
      "execution_count": 79,
      "outputs": []
    },
    {
      "cell_type": "code",
      "source": [
        "# Mengambil gambar dari Google Drive\n",
        "# Heptagon\n",
        "image_path = \"/content/drive/MyDrive/PCVK/imanges/2D Geometry Images/Heptagon_0f07ef26-2a86-11ea-8123-8363a7ec19e6.png\""
      ],
      "metadata": {
        "id": "qa3H35NHkRQm"
      },
      "execution_count": 93,
      "outputs": []
    },
    {
      "cell_type": "code",
      "source": [
        "# Membaca dan memproses gambar\n",
        "image = read_and_process_image(image_path)"
      ],
      "metadata": {
        "id": "O2G6aGCfkcsu"
      },
      "execution_count": 94,
      "outputs": []
    },
    {
      "cell_type": "code",
      "source": [
        "# Melakukan prediksi menggunakan model\n",
        "prediction = model.predict(image.reshape(1, -1))"
      ],
      "metadata": {
        "id": "ERSySj8oknge"
      },
      "execution_count": 95,
      "outputs": []
    },
    {
      "cell_type": "code",
      "source": [
        "# Menampilkan hasil prediksi\n",
        "predicted_label = labels[prediction[0]]\n",
        "print(\"Jenis gambar:\", predicted_label)"
      ],
      "metadata": {
        "id": "Okor_L9xkudq",
        "outputId": "a852cb9a-fe28-45de-f46c-7df8382cfd42",
        "colab": {
          "base_uri": "https://localhost:8080/"
        }
      },
      "execution_count": 96,
      "outputs": [
        {
          "output_type": "stream",
          "name": "stdout",
          "text": [
            "Jenis gambar: Heptagon\n"
          ]
        }
      ]
    },
    {
      "cell_type": "code",
      "source": [
        "from PIL import Image\n",
        "\n",
        "image = Image.open(image_path)\n",
        "image.show()"
      ],
      "metadata": {
        "id": "6zHr9MC7_S69",
        "outputId": "1f389644-c75f-40e8-f1d7-e0ad27b14003",
        "colab": {
          "base_uri": "https://localhost:8080/",
          "height": 217
        }
      },
      "execution_count": 97,
      "outputs": [
        {
          "output_type": "display_data",
          "data": {
            "text/plain": [
              "<PIL.PngImagePlugin.PngImageFile image mode=RGB size=200x200 at 0x7F7C5596BA60>"
            ],
            "image/png": "[encoded data removed]"
          },
          "metadata": {}
        }
      ]
    }
  ]
}